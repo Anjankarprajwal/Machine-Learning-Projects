{
 "cells": [
  {
   "cell_type": "code",
   "execution_count": 1,
   "id": "775a34b9",
   "metadata": {},
   "outputs": [],
   "source": [
    "import numpy as np \n",
    "import pandas as pd\n",
    "import matplotlib.pyplot as plt\n",
    "import seaborn as sns\n",
    "sns.set_style('darkgrid')"
   ]
  },
  {
   "cell_type": "code",
   "execution_count": 2,
   "id": "5dbbcd12",
   "metadata": {},
   "outputs": [],
   "source": [
    "dataset = pd.read_csv('Position_Salaries.csv')"
   ]
  },
  {
   "cell_type": "code",
   "execution_count": 3,
   "id": "c2e6fb03",
   "metadata": {},
   "outputs": [
    {
     "data": {
      "text/html": [
       "<div>\n",
       "<style scoped>\n",
       "    .dataframe tbody tr th:only-of-type {\n",
       "        vertical-align: middle;\n",
       "    }\n",
       "\n",
       "    .dataframe tbody tr th {\n",
       "        vertical-align: top;\n",
       "    }\n",
       "\n",
       "    .dataframe thead th {\n",
       "        text-align: right;\n",
       "    }\n",
       "</style>\n",
       "<table border=\"1\" class=\"dataframe\">\n",
       "  <thead>\n",
       "    <tr style=\"text-align: right;\">\n",
       "      <th></th>\n",
       "      <th>Position</th>\n",
       "      <th>Level</th>\n",
       "      <th>Salary</th>\n",
       "    </tr>\n",
       "  </thead>\n",
       "  <tbody>\n",
       "    <tr>\n",
       "      <th>0</th>\n",
       "      <td>Business Analyst</td>\n",
       "      <td>1</td>\n",
       "      <td>45000</td>\n",
       "    </tr>\n",
       "    <tr>\n",
       "      <th>1</th>\n",
       "      <td>Junior Consultant</td>\n",
       "      <td>2</td>\n",
       "      <td>50000</td>\n",
       "    </tr>\n",
       "    <tr>\n",
       "      <th>2</th>\n",
       "      <td>Senior Consultant</td>\n",
       "      <td>3</td>\n",
       "      <td>60000</td>\n",
       "    </tr>\n",
       "    <tr>\n",
       "      <th>3</th>\n",
       "      <td>Manager</td>\n",
       "      <td>4</td>\n",
       "      <td>80000</td>\n",
       "    </tr>\n",
       "    <tr>\n",
       "      <th>4</th>\n",
       "      <td>Country Manager</td>\n",
       "      <td>5</td>\n",
       "      <td>110000</td>\n",
       "    </tr>\n",
       "    <tr>\n",
       "      <th>5</th>\n",
       "      <td>Region Manager</td>\n",
       "      <td>6</td>\n",
       "      <td>150000</td>\n",
       "    </tr>\n",
       "    <tr>\n",
       "      <th>6</th>\n",
       "      <td>Partner</td>\n",
       "      <td>7</td>\n",
       "      <td>200000</td>\n",
       "    </tr>\n",
       "    <tr>\n",
       "      <th>7</th>\n",
       "      <td>Senior Partner</td>\n",
       "      <td>8</td>\n",
       "      <td>300000</td>\n",
       "    </tr>\n",
       "    <tr>\n",
       "      <th>8</th>\n",
       "      <td>C-level</td>\n",
       "      <td>9</td>\n",
       "      <td>500000</td>\n",
       "    </tr>\n",
       "    <tr>\n",
       "      <th>9</th>\n",
       "      <td>CEO</td>\n",
       "      <td>10</td>\n",
       "      <td>1000000</td>\n",
       "    </tr>\n",
       "  </tbody>\n",
       "</table>\n",
       "</div>"
      ],
      "text/plain": [
       "            Position  Level   Salary\n",
       "0   Business Analyst      1    45000\n",
       "1  Junior Consultant      2    50000\n",
       "2  Senior Consultant      3    60000\n",
       "3            Manager      4    80000\n",
       "4    Country Manager      5   110000\n",
       "5     Region Manager      6   150000\n",
       "6            Partner      7   200000\n",
       "7     Senior Partner      8   300000\n",
       "8            C-level      9   500000\n",
       "9                CEO     10  1000000"
      ]
     },
     "execution_count": 3,
     "metadata": {},
     "output_type": "execute_result"
    }
   ],
   "source": [
    "dataset"
   ]
  },
  {
   "cell_type": "code",
   "execution_count": 9,
   "id": "4f0a896f",
   "metadata": {},
   "outputs": [],
   "source": [
    "X = dataset.iloc[:,[1]].values"
   ]
  },
  {
   "cell_type": "code",
   "execution_count": 10,
   "id": "f2e3cdec",
   "metadata": {},
   "outputs": [
    {
     "data": {
      "text/plain": [
       "array([[ 1],\n",
       "       [ 2],\n",
       "       [ 3],\n",
       "       [ 4],\n",
       "       [ 5],\n",
       "       [ 6],\n",
       "       [ 7],\n",
       "       [ 8],\n",
       "       [ 9],\n",
       "       [10]], dtype=int64)"
      ]
     },
     "execution_count": 10,
     "metadata": {},
     "output_type": "execute_result"
    }
   ],
   "source": [
    "X"
   ]
  },
  {
   "cell_type": "code",
   "execution_count": 11,
   "id": "f9da6ddb",
   "metadata": {},
   "outputs": [],
   "source": [
    "y = dataset.iloc[:,2].values"
   ]
  },
  {
   "cell_type": "code",
   "execution_count": 13,
   "id": "6f935bb0",
   "metadata": {},
   "outputs": [
    {
     "data": {
      "text/plain": [
       "array([  45000,   50000,   60000,   80000,  110000,  150000,  200000,\n",
       "        300000,  500000, 1000000], dtype=int64)"
      ]
     },
     "execution_count": 13,
     "metadata": {},
     "output_type": "execute_result"
    }
   ],
   "source": [
    "y"
   ]
  },
  {
   "cell_type": "code",
   "execution_count": 15,
   "id": "c8652644",
   "metadata": {},
   "outputs": [
    {
     "data": {
      "image/png": "[encoded data removed]",
      "text/plain": [
       "<Figure size 640x480 with 1 Axes>"
      ]
     },
     "metadata": {},
     "output_type": "display_data"
    }
   ],
   "source": [
    "plt.scatter(X,y)\n",
    "plt.xlabel('Level')\n",
    "plt.ylabel('Salary')\n",
    "plt.show()"
   ]
  },
  {
   "cell_type": "code",
   "execution_count": 16,
   "id": "d3c86aaf",
   "metadata": {},
   "outputs": [],
   "source": [
    "from sklearn.tree import DecisionTreeRegressor"
   ]
  },
  {
   "cell_type": "code",
   "execution_count": 17,
   "id": "202442e8",
   "metadata": {},
   "outputs": [],
   "source": [
    "model = DecisionTreeRegressor()"
   ]
  },
  {
   "cell_type": "code",
   "execution_count": 18,
   "id": "8bd378aa",
   "metadata": {},
   "outputs": [
    {
     "data": {
      "text/plain": [
       "DecisionTreeRegressor()"
      ]
     },
     "execution_count": 18,
     "metadata": {},
     "output_type": "execute_result"
    }
   ],
   "source": [
    "model.fit(X,y)"
   ]
  },
  {
   "cell_type": "code",
   "execution_count": 21,
   "id": "563e50c9",
   "metadata": {},
   "outputs": [
    {
     "data": {
      "text/plain": [
       "array([150000.])"
      ]
     },
     "execution_count": 21,
     "metadata": {},
     "output_type": "execute_result"
    }
   ],
   "source": [
    "model.predict(np.array([[6.5]]))"
   ]
  },
  {
   "cell_type": "code",
   "execution_count": 22,
   "id": "bc594933",
   "metadata": {},
   "outputs": [
    {
     "data": {
      "text/plain": [
       "array([200000.])"
      ]
     },
     "execution_count": 22,
     "metadata": {},
     "output_type": "execute_result"
    }
   ],
   "source": [
    "model.predict(np.array([[6.6]]))"
   ]
  },
  {
   "cell_type": "code",
   "execution_count": 23,
   "id": "63ac826f",
   "metadata": {},
   "outputs": [
    {
     "data": {
      "text/plain": [
       "array([200000.])"
      ]
     },
     "execution_count": 23,
     "metadata": {},
     "output_type": "execute_result"
    }
   ],
   "source": [
    "model.predict(np.array([[6.7]]))"
   ]
  },
  {
   "cell_type": "code",
   "execution_count": 24,
   "id": "05843e89",
   "metadata": {},
   "outputs": [
    {
     "data": {
      "text/plain": [
       "array([200000.])"
      ]
     },
     "execution_count": 24,
     "metadata": {},
     "output_type": "execute_result"
    }
   ],
   "source": [
    "model.predict(np.array([[6.8]]))"
   ]
  },
  {
   "cell_type": "code",
   "execution_count": 25,
   "id": "2bfe5e98",
   "metadata": {},
   "outputs": [
    {
     "data": {
      "text/plain": [
       "array([200000.])"
      ]
     },
     "execution_count": 25,
     "metadata": {},
     "output_type": "execute_result"
    }
   ],
   "source": [
    "model.predict(np.array([[6.9]]))"
   ]
  },
  {
   "cell_type": "code",
   "execution_count": 26,
   "id": "816a14c8",
   "metadata": {},
   "outputs": [
    {
     "data": {
      "text/plain": [
       "array([200000.])"
      ]
     },
     "execution_count": 26,
     "metadata": {},
     "output_type": "execute_result"
    }
   ],
   "source": [
    "model.predict(np.array([[7]]))"
   ]
  },
  {
   "cell_type": "code",
   "execution_count": 27,
   "id": "89f2185a",
   "metadata": {},
   "outputs": [
    {
     "data": {
      "text/plain": [
       "array([200000.])"
      ]
     },
     "execution_count": 27,
     "metadata": {},
     "output_type": "execute_result"
    }
   ],
   "source": [
    "model.predict(np.array([[7.1]]))"
   ]
  },
  {
   "cell_type": "code",
   "execution_count": 28,
   "id": "929ea40b",
   "metadata": {},
   "outputs": [
    {
     "data": {
      "text/plain": [
       "array([200000.])"
      ]
     },
     "execution_count": 28,
     "metadata": {},
     "output_type": "execute_result"
    }
   ],
   "source": [
    "model.predict(np.array([[7.2]]))"
   ]
  },
  {
   "cell_type": "code",
   "execution_count": 29,
   "id": "f7d5530c",
   "metadata": {},
   "outputs": [
    {
     "data": {
      "text/plain": [
       "array([200000.])"
      ]
     },
     "execution_count": 29,
     "metadata": {},
     "output_type": "execute_result"
    }
   ],
   "source": [
    "model.predict(np.array([[7.3]]))"
   ]
  },
  {
   "cell_type": "code",
   "execution_count": 30,
   "id": "a9b23d5d",
   "metadata": {},
   "outputs": [
    {
     "data": {
      "text/plain": [
       "array([200000.])"
      ]
     },
     "execution_count": 30,
     "metadata": {},
     "output_type": "execute_result"
    }
   ],
   "source": [
    "model.predict(np.array([[7.4]]))"
   ]
  },
  {
   "cell_type": "code",
   "execution_count": 31,
   "id": "3924e283",
   "metadata": {},
   "outputs": [
    {
     "data": {
      "text/plain": [
       "array([200000.])"
      ]
     },
     "execution_count": 31,
     "metadata": {},
     "output_type": "execute_result"
    }
   ],
   "source": [
    "model.predict(np.array([[7.5]]))"
   ]
  },
  {
   "cell_type": "code",
   "execution_count": 32,
   "id": "2025d3cd",
   "metadata": {},
   "outputs": [
    {
     "data": {
      "text/plain": [
       "array([300000.])"
      ]
     },
     "execution_count": 32,
     "metadata": {},
     "output_type": "execute_result"
    }
   ],
   "source": [
    "model.predict(np.array([[7.6]]))"
   ]
  },
  {
   "cell_type": "code",
   "execution_count": 33,
   "id": "b2b56568",
   "metadata": {},
   "outputs": [
    {
     "data": {
      "text/plain": [
       "array([150000.])"
      ]
     },
     "execution_count": 33,
     "metadata": {},
     "output_type": "execute_result"
    }
   ],
   "source": [
    "model.predict(np.array([[6.4]]))"
   ]
  },
  {
   "cell_type": "code",
   "execution_count": 34,
   "id": "8a43753a",
   "metadata": {},
   "outputs": [
    {
     "data": {
      "text/plain": [
       "array([150000.])"
      ]
     },
     "execution_count": 34,
     "metadata": {},
     "output_type": "execute_result"
    }
   ],
   "source": [
    "model.predict(np.array([[6.3]]))"
   ]
  },
  {
   "cell_type": "code",
   "execution_count": 35,
   "id": "9a49365f",
   "metadata": {},
   "outputs": [
    {
     "data": {
      "text/plain": [
       "array([150000.])"
      ]
     },
     "execution_count": 35,
     "metadata": {},
     "output_type": "execute_result"
    }
   ],
   "source": [
    "model.predict(np.array([[6.2]]))"
   ]
  },
  {
   "cell_type": "code",
   "execution_count": 36,
   "id": "2a21396a",
   "metadata": {},
   "outputs": [
    {
     "data": {
      "text/plain": [
       "array([150000.])"
      ]
     },
     "execution_count": 36,
     "metadata": {},
     "output_type": "execute_result"
    }
   ],
   "source": [
    "model.predict(np.array([[6]]))"
   ]
  },
  {
   "cell_type": "code",
   "execution_count": 37,
   "id": "5332cce2",
   "metadata": {},
   "outputs": [
    {
     "data": {
      "text/plain": [
       "array([150000.])"
      ]
     },
     "execution_count": 37,
     "metadata": {},
     "output_type": "execute_result"
    }
   ],
   "source": [
    "model.predict(np.array([[5.9]]))"
   ]
  },
  {
   "cell_type": "code",
   "execution_count": 38,
   "id": "2da5c1ba",
   "metadata": {},
   "outputs": [
    {
     "data": {
      "text/plain": [
       "array([150000.])"
      ]
     },
     "execution_count": 38,
     "metadata": {},
     "output_type": "execute_result"
    }
   ],
   "source": [
    "model.predict(np.array([[5.8]]))"
   ]
  },
  {
   "cell_type": "code",
   "execution_count": 39,
   "id": "21ec722f",
   "metadata": {},
   "outputs": [
    {
     "data": {
      "text/plain": [
       "array([150000.])"
      ]
     },
     "execution_count": 39,
     "metadata": {},
     "output_type": "execute_result"
    }
   ],
   "source": [
    "model.predict(np.array([[5.7]]))"
   ]
  },
  {
   "cell_type": "code",
   "execution_count": 40,
   "id": "c39de9f6",
   "metadata": {},
   "outputs": [
    {
     "data": {
      "text/plain": [
       "array([150000.])"
      ]
     },
     "execution_count": 40,
     "metadata": {},
     "output_type": "execute_result"
    }
   ],
   "source": [
    "model.predict(np.array([[5.6]]))"
   ]
  },
  {
   "cell_type": "code",
   "execution_count": 41,
   "id": "4e57ec1f",
   "metadata": {},
   "outputs": [
    {
     "data": {
      "text/plain": [
       "array([110000.])"
      ]
     },
     "execution_count": 41,
     "metadata": {},
     "output_type": "execute_result"
    }
   ],
   "source": [
    "model.predict(np.array([[5.5]]))"
   ]
  },
  {
   "cell_type": "code",
   "execution_count": 42,
   "id": "9aa8bbe1",
   "metadata": {},
   "outputs": [
    {
     "data": {
      "text/plain": [
       "1.0"
      ]
     },
     "execution_count": 42,
     "metadata": {},
     "output_type": "execute_result"
    }
   ],
   "source": [
    "model.score(X,y)"
   ]
  },
  {
   "cell_type": "code",
   "execution_count": 43,
   "id": "e9eff404",
   "metadata": {},
   "outputs": [],
   "source": [
    "X_grid = np.arange(1,10,0.01)"
   ]
  },
  {
   "cell_type": "code",
   "execution_count": 44,
   "id": "0de3c23b",
   "metadata": {},
   "outputs": [
    {
     "data": {
      "text/plain": [
       "array([1.  , 1.01, 1.02, 1.03, 1.04, 1.05, 1.06, 1.07, 1.08, 1.09, 1.1 ,\n",
       "       1.11, 1.12, 1.13, 1.14, 1.15, 1.16, 1.17, 1.18, 1.19, 1.2 , 1.21,\n",
       "       1.22, 1.23, 1.24, 1.25, 1.26, 1.27, 1.28, 1.29, 1.3 , 1.31, 1.32,\n",
       "       1.33, 1.34, 1.35, 1.36, 1.37, 1.38, 1.39, 1.4 , 1.41, 1.42, 1.43,\n",
       "       1.44, 1.45, 1.46, 1.47, 1.48, 1.49, 1.5 , 1.51, 1.52, 1.53, 1.54,\n",
       "       1.55, 1.56, 1.57, 1.58, 1.59, 1.6 , 1.61, 1.62, 1.63, 1.64, 1.65,\n",
       "       1.66, 1.67, 1.68, 1.69, 1.7 , 1.71, 1.72, 1.73, 1.74, 1.75, 1.76,\n",
       "       1.77, 1.78, 1.79, 1.8 , 1.81, 1.82, 1.83, 1.84, 1.85, 1.86, 1.87,\n",
       "       1.88, 1.89, 1.9 , 1.91, 1.92, 1.93, 1.94, 1.95, 1.96, 1.97, 1.98,\n",
       "       1.99, 2.  , 2.01, 2.02, 2.03, 2.04, 2.05, 2.06, 2.07, 2.08, 2.09,\n",
       "       2.1 , 2.11, 2.12, 2.13, 2.14, 2.15, 2.16, 2.17, 2.18, 2.19, 2.2 ,\n",
       "       2.21, 2.22, 2.23, 2.24, 2.25, 2.26, 2.27, 2.28, 2.29, 2.3 , 2.31,\n",
       "       2.32, 2.33, 2.34, 2.35, 2.36, 2.37, 2.38, 2.39, 2.4 , 2.41, 2.42,\n",
       "       2.43, 2.44, 2.45, 2.46, 2.47, 2.48, 2.49, 2.5 , 2.51, 2.52, 2.53,\n",
       "       2.54, 2.55, 2.56, 2.57, 2.58, 2.59, 2.6 , 2.61, 2.62, 2.63, 2.64,\n",
       "       2.65, 2.66, 2.67, 2.68, 2.69, 2.7 , 2.71, 2.72, 2.73, 2.74, 2.75,\n",
       "       2.76, 2.77, 2.78, 2.79, 2.8 , 2.81, 2.82, 2.83, 2.84, 2.85, 2.86,\n",
       "       2.87, 2.88, 2.89, 2.9 , 2.91, 2.92, 2.93, 2.94, 2.95, 2.96, 2.97,\n",
       "       2.98, 2.99, 3.  , 3.01, 3.02, 3.03, 3.04, 3.05, 3.06, 3.07, 3.08,\n",
       "       3.09, 3.1 , 3.11, 3.12, 3.13, 3.14, 3.15, 3.16, 3.17, 3.18, 3.19,\n",
       "       3.2 , 3.21, 3.22, 3.23, 3.24, 3.25, 3.26, 3.27, 3.28, 3.29, 3.3 ,\n",
       "       3.31, 3.32, 3.33, 3.34, 3.35, 3.36, 3.37, 3.38, 3.39, 3.4 , 3.41,\n",
       "       3.42, 3.43, 3.44, 3.45, 3.46, 3.47, 3.48, 3.49, 3.5 , 3.51, 3.52,\n",
       "       3.53, 3.54, 3.55, 3.56, 3.57, 3.58, 3.59, 3.6 , 3.61, 3.62, 3.63,\n",
       "       3.64, 3.65, 3.66, 3.67, 3.68, 3.69, 3.7 , 3.71, 3.72, 3.73, 3.74,\n",
       "       3.75, 3.76, 3.77, 3.78, 3.79, 3.8 , 3.81, 3.82, 3.83, 3.84, 3.85,\n",
       "       3.86, 3.87, 3.88, 3.89, 3.9 , 3.91, 3.92, 3.93, 3.94, 3.95, 3.96,\n",
       "       3.97, 3.98, 3.99, 4.  , 4.01, 4.02, 4.03, 4.04, 4.05, 4.06, 4.07,\n",
       "       4.08, 4.09, 4.1 , 4.11, 4.12, 4.13, 4.14, 4.15, 4.16, 4.17, 4.18,\n",
       "       4.19, 4.2 , 4.21, 4.22, 4.23, 4.24, 4.25, 4.26, 4.27, 4.28, 4.29,\n",
       "       4.3 , 4.31, 4.32, 4.33, 4.34, 4.35, 4.36, 4.37, 4.38, 4.39, 4.4 ,\n",
       "       4.41, 4.42, 4.43, 4.44, 4.45, 4.46, 4.47, 4.48, 4.49, 4.5 , 4.51,\n",
       "       4.52, 4.53, 4.54, 4.55, 4.56, 4.57, 4.58, 4.59, 4.6 , 4.61, 4.62,\n",
       "       4.63, 4.64, 4.65, 4.66, 4.67, 4.68, 4.69, 4.7 , 4.71, 4.72, 4.73,\n",
       "       4.74, 4.75, 4.76, 4.77, 4.78, 4.79, 4.8 , 4.81, 4.82, 4.83, 4.84,\n",
       "       4.85, 4.86, 4.87, 4.88, 4.89, 4.9 , 4.91, 4.92, 4.93, 4.94, 4.95,\n",
       "       4.96, 4.97, 4.98, 4.99, 5.  , 5.01, 5.02, 5.03, 5.04, 5.05, 5.06,\n",
       "       5.07, 5.08, 5.09, 5.1 , 5.11, 5.12, 5.13, 5.14, 5.15, 5.16, 5.17,\n",
       "       5.18, 5.19, 5.2 , 5.21, 5.22, 5.23, 5.24, 5.25, 5.26, 5.27, 5.28,\n",
       "       5.29, 5.3 , 5.31, 5.32, 5.33, 5.34, 5.35, 5.36, 5.37, 5.38, 5.39,\n",
       "       5.4 , 5.41, 5.42, 5.43, 5.44, 5.45, 5.46, 5.47, 5.48, 5.49, 5.5 ,\n",
       "       5.51, 5.52, 5.53, 5.54, 5.55, 5.56, 5.57, 5.58, 5.59, 5.6 , 5.61,\n",
       "       5.62, 5.63, 5.64, 5.65, 5.66, 5.67, 5.68, 5.69, 5.7 , 5.71, 5.72,\n",
       "       5.73, 5.74, 5.75, 5.76, 5.77, 5.78, 5.79, 5.8 , 5.81, 5.82, 5.83,\n",
       "       5.84, 5.85, 5.86, 5.87, 5.88, 5.89, 5.9 , 5.91, 5.92, 5.93, 5.94,\n",
       "       5.95, 5.96, 5.97, 5.98, 5.99, 6.  , 6.01, 6.02, 6.03, 6.04, 6.05,\n",
       "       6.06, 6.07, 6.08, 6.09, 6.1 , 6.11, 6.12, 6.13, 6.14, 6.15, 6.16,\n",
       "       6.17, 6.18, 6.19, 6.2 , 6.21, 6.22, 6.23, 6.24, 6.25, 6.26, 6.27,\n",
       "       6.28, 6.29, 6.3 , 6.31, 6.32, 6.33, 6.34, 6.35, 6.36, 6.37, 6.38,\n",
       "       6.39, 6.4 , 6.41, 6.42, 6.43, 6.44, 6.45, 6.46, 6.47, 6.48, 6.49,\n",
       "       6.5 , 6.51, 6.52, 6.53, 6.54, 6.55, 6.56, 6.57, 6.58, 6.59, 6.6 ,\n",
       "       6.61, 6.62, 6.63, 6.64, 6.65, 6.66, 6.67, 6.68, 6.69, 6.7 , 6.71,\n",
       "       6.72, 6.73, 6.74, 6.75, 6.76, 6.77, 6.78, 6.79, 6.8 , 6.81, 6.82,\n",
       "       6.83, 6.84, 6.85, 6.86, 6.87, 6.88, 6.89, 6.9 , 6.91, 6.92, 6.93,\n",
       "       6.94, 6.95, 6.96, 6.97, 6.98, 6.99, 7.  , 7.01, 7.02, 7.03, 7.04,\n",
       "       7.05, 7.06, 7.07, 7.08, 7.09, 7.1 , 7.11, 7.12, 7.13, 7.14, 7.15,\n",
       "       7.16, 7.17, 7.18, 7.19, 7.2 , 7.21, 7.22, 7.23, 7.24, 7.25, 7.26,\n",
       "       7.27, 7.28, 7.29, 7.3 , 7.31, 7.32, 7.33, 7.34, 7.35, 7.36, 7.37,\n",
       "       7.38, 7.39, 7.4 , 7.41, 7.42, 7.43, 7.44, 7.45, 7.46, 7.47, 7.48,\n",
       "       7.49, 7.5 , 7.51, 7.52, 7.53, 7.54, 7.55, 7.56, 7.57, 7.58, 7.59,\n",
       "       7.6 , 7.61, 7.62, 7.63, 7.64, 7.65, 7.66, 7.67, 7.68, 7.69, 7.7 ,\n",
       "       7.71, 7.72, 7.73, 7.74, 7.75, 7.76, 7.77, 7.78, 7.79, 7.8 , 7.81,\n",
       "       7.82, 7.83, 7.84, 7.85, 7.86, 7.87, 7.88, 7.89, 7.9 , 7.91, 7.92,\n",
       "       7.93, 7.94, 7.95, 7.96, 7.97, 7.98, 7.99, 8.  , 8.01, 8.02, 8.03,\n",
       "       8.04, 8.05, 8.06, 8.07, 8.08, 8.09, 8.1 , 8.11, 8.12, 8.13, 8.14,\n",
       "       8.15, 8.16, 8.17, 8.18, 8.19, 8.2 , 8.21, 8.22, 8.23, 8.24, 8.25,\n",
       "       8.26, 8.27, 8.28, 8.29, 8.3 , 8.31, 8.32, 8.33, 8.34, 8.35, 8.36,\n",
       "       8.37, 8.38, 8.39, 8.4 , 8.41, 8.42, 8.43, 8.44, 8.45, 8.46, 8.47,\n",
       "       8.48, 8.49, 8.5 , 8.51, 8.52, 8.53, 8.54, 8.55, 8.56, 8.57, 8.58,\n",
       "       8.59, 8.6 , 8.61, 8.62, 8.63, 8.64, 8.65, 8.66, 8.67, 8.68, 8.69,\n",
       "       8.7 , 8.71, 8.72, 8.73, 8.74, 8.75, 8.76, 8.77, 8.78, 8.79, 8.8 ,\n",
       "       8.81, 8.82, 8.83, 8.84, 8.85, 8.86, 8.87, 8.88, 8.89, 8.9 , 8.91,\n",
       "       8.92, 8.93, 8.94, 8.95, 8.96, 8.97, 8.98, 8.99, 9.  , 9.01, 9.02,\n",
       "       9.03, 9.04, 9.05, 9.06, 9.07, 9.08, 9.09, 9.1 , 9.11, 9.12, 9.13,\n",
       "       9.14, 9.15, 9.16, 9.17, 9.18, 9.19, 9.2 , 9.21, 9.22, 9.23, 9.24,\n",
       "       9.25, 9.26, 9.27, 9.28, 9.29, 9.3 , 9.31, 9.32, 9.33, 9.34, 9.35,\n",
       "       9.36, 9.37, 9.38, 9.39, 9.4 , 9.41, 9.42, 9.43, 9.44, 9.45, 9.46,\n",
       "       9.47, 9.48, 9.49, 9.5 , 9.51, 9.52, 9.53, 9.54, 9.55, 9.56, 9.57,\n",
       "       9.58, 9.59, 9.6 , 9.61, 9.62, 9.63, 9.64, 9.65, 9.66, 9.67, 9.68,\n",
       "       9.69, 9.7 , 9.71, 9.72, 9.73, 9.74, 9.75, 9.76, 9.77, 9.78, 9.79,\n",
       "       9.8 , 9.81, 9.82, 9.83, 9.84, 9.85, 9.86, 9.87, 9.88, 9.89, 9.9 ,\n",
       "       9.91, 9.92, 9.93, 9.94, 9.95, 9.96, 9.97, 9.98, 9.99])"
      ]
     },
     "execution_count": 44,
     "metadata": {},
     "output_type": "execute_result"
    }
   ],
   "source": [
    "X_grid"
   ]
  },
  {
   "cell_type": "code",
   "execution_count": 45,
   "id": "2ff6be11",
   "metadata": {},
   "outputs": [
    {
     "data": {
      "text/plain": [
       "(900,)"
      ]
     },
     "execution_count": 45,
     "metadata": {},
     "output_type": "execute_result"
    }
   ],
   "source": [
    "X_grid.shape"
   ]
  },
  {
   "cell_type": "code",
   "execution_count": 46,
   "id": "2447085a",
   "metadata": {},
   "outputs": [],
   "source": [
    "X_grid = X_grid.reshape(900,1)"
   ]
  },
  {
   "cell_type": "code",
   "execution_count": 47,
   "id": "0eece0a3",
   "metadata": {},
   "outputs": [
    {
     "data": {
      "text/plain": [
       "(900, 1)"
      ]
     },
     "execution_count": 47,
     "metadata": {},
     "output_type": "execute_result"
    }
   ],
   "source": [
    "X_grid.shape"
   ]
  },
  {
   "cell_type": "code",
   "execution_count": 48,
   "id": "ea936946",
   "metadata": {},
   "outputs": [
    {
     "data": {
      "text/plain": [
       "array([[1.  ],\n",
       "       [1.01],\n",
       "       [1.02],\n",
       "       [1.03],\n",
       "       [1.04],\n",
       "       [1.05],\n",
       "       [1.06],\n",
       "       [1.07],\n",
       "       [1.08],\n",
       "       [1.09],\n",
       "       [1.1 ],\n",
       "       [1.11],\n",
       "       [1.12],\n",
       "       [1.13],\n",
       "       [1.14],\n",
       "       [1.15],\n",
       "       [1.16],\n",
       "       [1.17],\n",
       "       [1.18],\n",
       "       [1.19],\n",
       "       [1.2 ],\n",
       "       [1.21],\n",
       "       [1.22],\n",
       "       [1.23],\n",
       "       [1.24],\n",
       "       [1.25],\n",
       "       [1.26],\n",
       "       [1.27],\n",
       "       [1.28],\n",
       "       [1.29],\n",
       "       [1.3 ],\n",
       "       [1.31],\n",
       "       [1.32],\n",
       "       [1.33],\n",
       "       [1.34],\n",
       "       [1.35],\n",
       "       [1.36],\n",
       "       [1.37],\n",
       "       [1.38],\n",
       "       [1.39],\n",
       "       [1.4 ],\n",
       "       [1.41],\n",
       "       [1.42],\n",
       "       [1.43],\n",
       "       [1.44],\n",
       "       [1.45],\n",
       "       [1.46],\n",
       "       [1.47],\n",
       "       [1.48],\n",
       "       [1.49],\n",
       "       [1.5 ],\n",
       "       [1.51],\n",
       "       [1.52],\n",
       "       [1.53],\n",
       "       [1.54],\n",
       "       [1.55],\n",
       "       [1.56],\n",
       "       [1.57],\n",
       "       [1.58],\n",
       "       [1.59],\n",
       "       [1.6 ],\n",
       "       [1.61],\n",
       "       [1.62],\n",
       "       [1.63],\n",
       "       [1.64],\n",
       "       [1.65],\n",
       "       [1.66],\n",
       "       [1.67],\n",
       "       [1.68],\n",
       "       [1.69],\n",
       "       [1.7 ],\n",
       "       [1.71],\n",
       "       [1.72],\n",
       "       [1.73],\n",
       "       [1.74],\n",
       "       [1.75],\n",
       "       [1.76],\n",
       "       [1.77],\n",
       "       [1.78],\n",
       "       [1.79],\n",
       "       [1.8 ],\n",
       "       [1.81],\n",
       "       [1.82],\n",
       "       [1.83],\n",
       "       [1.84],\n",
       "       [1.85],\n",
       "       [1.86],\n",
       "       [1.87],\n",
       "       [1.88],\n",
       "       [1.89],\n",
       "       [1.9 ],\n",
       "       [1.91],\n",
       "       [1.92],\n",
       "       [1.93],\n",
       "       [1.94],\n",
       "       [1.95],\n",
       "       [1.96],\n",
       "       [1.97],\n",
       "       [1.98],\n",
       "       [1.99],\n",
       "       [2.  ],\n",
       "       [2.01],\n",
       "       [2.02],\n",
       "       [2.03],\n",
       "       [2.04],\n",
       "       [2.05],\n",
       "       [2.06],\n",
       "       [2.07],\n",
       "       [2.08],\n",
       "       [2.09],\n",
       "       [2.1 ],\n",
       "       [2.11],\n",
       "       [2.12],\n",
       "       [2.13],\n",
       "       [2.14],\n",
       "       [2.15],\n",
       "       [2.16],\n",
       "       [2.17],\n",
       "       [2.18],\n",
       "       [2.19],\n",
       "       [2.2 ],\n",
       "       [2.21],\n",
       "       [2.22],\n",
       "       [2.23],\n",
       "       [2.24],\n",
       "       [2.25],\n",
       "       [2.26],\n",
       "       [2.27],\n",
       "       [2.28],\n",
       "       [2.29],\n",
       "       [2.3 ],\n",
       "       [2.31],\n",
       "       [2.32],\n",
       "       [2.33],\n",
       "       [2.34],\n",
       "       [2.35],\n",
       "       [2.36],\n",
       "       [2.37],\n",
       "       [2.38],\n",
       "       [2.39],\n",
       "       [2.4 ],\n",
       "       [2.41],\n",
       "       [2.42],\n",
       "       [2.43],\n",
       "       [2.44],\n",
       "       [2.45],\n",
       "       [2.46],\n",
       "       [2.47],\n",
       "       [2.48],\n",
       "       [2.49],\n",
       "       [2.5 ],\n",
       "       [2.51],\n",
       "       [2.52],\n",
       "       [2.53],\n",
       "       [2.54],\n",
       "       [2.55],\n",
       "       [2.56],\n",
       "       [2.57],\n",
       "       [2.58],\n",
       "       [2.59],\n",
       "       [2.6 ],\n",
       "       [2.61],\n",
       "       [2.62],\n",
       "       [2.63],\n",
       "       [2.64],\n",
       "       [2.65],\n",
       "       [2.66],\n",
       "       [2.67],\n",
       "       [2.68],\n",
       "       [2.69],\n",
       "       [2.7 ],\n",
       "       [2.71],\n",
       "       [2.72],\n",
       "       [2.73],\n",
       "       [2.74],\n",
       "       [2.75],\n",
       "       [2.76],\n",
       "       [2.77],\n",
       "       [2.78],\n",
       "       [2.79],\n",
       "       [2.8 ],\n",
       "       [2.81],\n",
       "       [2.82],\n",
       "       [2.83],\n",
       "       [2.84],\n",
       "       [2.85],\n",
       "       [2.86],\n",
       "       [2.87],\n",
       "       [2.88],\n",
       "       [2.89],\n",
       "       [2.9 ],\n",
       "       [2.91],\n",
       "       [2.92],\n",
       "       [2.93],\n",
       "       [2.94],\n",
       "       [2.95],\n",
       "       [2.96],\n",
       "       [2.97],\n",
       "       [2.98],\n",
       "       [2.99],\n",
       "       [3.  ],\n",
       "       [3.01],\n",
       "       [3.02],\n",
       "       [3.03],\n",
       "       [3.04],\n",
       "       [3.05],\n",
       "       [3.06],\n",
       "       [3.07],\n",
       "       [3.08],\n",
       "       [3.09],\n",
       "       [3.1 ],\n",
       "       [3.11],\n",
       "       [3.12],\n",
       "       [3.13],\n",
       "       [3.14],\n",
       "       [3.15],\n",
       "       [3.16],\n",
       "       [3.17],\n",
       "       [3.18],\n",
       "       [3.19],\n",
       "       [3.2 ],\n",
       "       [3.21],\n",
       "       [3.22],\n",
       "       [3.23],\n",
       "       [3.24],\n",
       "       [3.25],\n",
       "       [3.26],\n",
       "       [3.27],\n",
       "       [3.28],\n",
       "       [3.29],\n",
       "       [3.3 ],\n",
       "       [3.31],\n",
       "       [3.32],\n",
       "       [3.33],\n",
       "       [3.34],\n",
       "       [3.35],\n",
       "       [3.36],\n",
       "       [3.37],\n",
       "       [3.38],\n",
       "       [3.39],\n",
       "       [3.4 ],\n",
       "       [3.41],\n",
       "       [3.42],\n",
       "       [3.43],\n",
       "       [3.44],\n",
       "       [3.45],\n",
       "       [3.46],\n",
       "       [3.47],\n",
       "       [3.48],\n",
       "       [3.49],\n",
       "       [3.5 ],\n",
       "       [3.51],\n",
       "       [3.52],\n",
       "       [3.53],\n",
       "       [3.54],\n",
       "       [3.55],\n",
       "       [3.56],\n",
       "       [3.57],\n",
       "       [3.58],\n",
       "       [3.59],\n",
       "       [3.6 ],\n",
       "       [3.61],\n",
       "       [3.62],\n",
       "       [3.63],\n",
       "       [3.64],\n",
       "       [3.65],\n",
       "       [3.66],\n",
       "       [3.67],\n",
       "       [3.68],\n",
       "       [3.69],\n",
       "       [3.7 ],\n",
       "       [3.71],\n",
       "       [3.72],\n",
       "       [3.73],\n",
       "       [3.74],\n",
       "       [3.75],\n",
       "       [3.76],\n",
       "       [3.77],\n",
       "       [3.78],\n",
       "       [3.79],\n",
       "       [3.8 ],\n",
       "       [3.81],\n",
       "       [3.82],\n",
       "       [3.83],\n",
       "       [3.84],\n",
       "       [3.85],\n",
       "       [3.86],\n",
       "       [3.87],\n",
       "       [3.88],\n",
       "       [3.89],\n",
       "       [3.9 ],\n",
       "       [3.91],\n",
       "       [3.92],\n",
       "       [3.93],\n",
       "       [3.94],\n",
       "       [3.95],\n",
       "       [3.96],\n",
       "       [3.97],\n",
       "       [3.98],\n",
       "       [3.99],\n",
       "       [4.  ],\n",
       "       [4.01],\n",
       "       [4.02],\n",
       "       [4.03],\n",
       "       [4.04],\n",
       "       [4.05],\n",
       "       [4.06],\n",
       "       [4.07],\n",
       "       [4.08],\n",
       "       [4.09],\n",
       "       [4.1 ],\n",
       "       [4.11],\n",
       "       [4.12],\n",
       "       [4.13],\n",
       "       [4.14],\n",
       "       [4.15],\n",
       "       [4.16],\n",
       "       [4.17],\n",
       "       [4.18],\n",
       "       [4.19],\n",
       "       [4.2 ],\n",
       "       [4.21],\n",
       "       [4.22],\n",
       "       [4.23],\n",
       "       [4.24],\n",
       "       [4.25],\n",
       "       [4.26],\n",
       "       [4.27],\n",
       "       [4.28],\n",
       "       [4.29],\n",
       "       [4.3 ],\n",
       "       [4.31],\n",
       "       [4.32],\n",
       "       [4.33],\n",
       "       [4.34],\n",
       "       [4.35],\n",
       "       [4.36],\n",
       "       [4.37],\n",
       "       [4.38],\n",
       "       [4.39],\n",
       "       [4.4 ],\n",
       "       [4.41],\n",
       "       [4.42],\n",
       "       [4.43],\n",
       "       [4.44],\n",
       "       [4.45],\n",
       "       [4.46],\n",
       "       [4.47],\n",
       "       [4.48],\n",
       "       [4.49],\n",
       "       [4.5 ],\n",
       "       [4.51],\n",
       "       [4.52],\n",
       "       [4.53],\n",
       "       [4.54],\n",
       "       [4.55],\n",
       "       [4.56],\n",
       "       [4.57],\n",
       "       [4.58],\n",
       "       [4.59],\n",
       "       [4.6 ],\n",
       "       [4.61],\n",
       "       [4.62],\n",
       "       [4.63],\n",
       "       [4.64],\n",
       "       [4.65],\n",
       "       [4.66],\n",
       "       [4.67],\n",
       "       [4.68],\n",
       "       [4.69],\n",
       "       [4.7 ],\n",
       "       [4.71],\n",
       "       [4.72],\n",
       "       [4.73],\n",
       "       [4.74],\n",
       "       [4.75],\n",
       "       [4.76],\n",
       "       [4.77],\n",
       "       [4.78],\n",
       "       [4.79],\n",
       "       [4.8 ],\n",
       "       [4.81],\n",
       "       [4.82],\n",
       "       [4.83],\n",
       "       [4.84],\n",
       "       [4.85],\n",
       "       [4.86],\n",
       "       [4.87],\n",
       "       [4.88],\n",
       "       [4.89],\n",
       "       [4.9 ],\n",
       "       [4.91],\n",
       "       [4.92],\n",
       "       [4.93],\n",
       "       [4.94],\n",
       "       [4.95],\n",
       "       [4.96],\n",
       "       [4.97],\n",
       "       [4.98],\n",
       "       [4.99],\n",
       "       [5.  ],\n",
       "       [5.01],\n",
       "       [5.02],\n",
       "       [5.03],\n",
       "       [5.04],\n",
       "       [5.05],\n",
       "       [5.06],\n",
       "       [5.07],\n",
       "       [5.08],\n",
       "       [5.09],\n",
       "       [5.1 ],\n",
       "       [5.11],\n",
       "       [5.12],\n",
       "       [5.13],\n",
       "       [5.14],\n",
       "       [5.15],\n",
       "       [5.16],\n",
       "       [5.17],\n",
       "       [5.18],\n",
       "       [5.19],\n",
       "       [5.2 ],\n",
       "       [5.21],\n",
       "       [5.22],\n",
       "       [5.23],\n",
       "       [5.24],\n",
       "       [5.25],\n",
       "       [5.26],\n",
       "       [5.27],\n",
       "       [5.28],\n",
       "       [5.29],\n",
       "       [5.3 ],\n",
       "       [5.31],\n",
       "       [5.32],\n",
       "       [5.33],\n",
       "       [5.34],\n",
       "       [5.35],\n",
       "       [5.36],\n",
       "       [5.37],\n",
       "       [5.38],\n",
       "       [5.39],\n",
       "       [5.4 ],\n",
       "       [5.41],\n",
       "       [5.42],\n",
       "       [5.43],\n",
       "       [5.44],\n",
       "       [5.45],\n",
       "       [5.46],\n",
       "       [5.47],\n",
       "       [5.48],\n",
       "       [5.49],\n",
       "       [5.5 ],\n",
       "       [5.51],\n",
       "       [5.52],\n",
       "       [5.53],\n",
       "       [5.54],\n",
       "       [5.55],\n",
       "       [5.56],\n",
       "       [5.57],\n",
       "       [5.58],\n",
       "       [5.59],\n",
       "       [5.6 ],\n",
       "       [5.61],\n",
       "       [5.62],\n",
       "       [5.63],\n",
       "       [5.64],\n",
       "       [5.65],\n",
       "       [5.66],\n",
       "       [5.67],\n",
       "       [5.68],\n",
       "       [5.69],\n",
       "       [5.7 ],\n",
       "       [5.71],\n",
       "       [5.72],\n",
       "       [5.73],\n",
       "       [5.74],\n",
       "       [5.75],\n",
       "       [5.76],\n",
       "       [5.77],\n",
       "       [5.78],\n",
       "       [5.79],\n",
       "       [5.8 ],\n",
       "       [5.81],\n",
       "       [5.82],\n",
       "       [5.83],\n",
       "       [5.84],\n",
       "       [5.85],\n",
       "       [5.86],\n",
       "       [5.87],\n",
       "       [5.88],\n",
       "       [5.89],\n",
       "       [5.9 ],\n",
       "       [5.91],\n",
       "       [5.92],\n",
       "       [5.93],\n",
       "       [5.94],\n",
       "       [5.95],\n",
       "       [5.96],\n",
       "       [5.97],\n",
       "       [5.98],\n",
       "       [5.99],\n",
       "       [6.  ],\n",
       "       [6.01],\n",
       "       [6.02],\n",
       "       [6.03],\n",
       "       [6.04],\n",
       "       [6.05],\n",
       "       [6.06],\n",
       "       [6.07],\n",
       "       [6.08],\n",
       "       [6.09],\n",
       "       [6.1 ],\n",
       "       [6.11],\n",
       "       [6.12],\n",
       "       [6.13],\n",
       "       [6.14],\n",
       "       [6.15],\n",
       "       [6.16],\n",
       "       [6.17],\n",
       "       [6.18],\n",
       "       [6.19],\n",
       "       [6.2 ],\n",
       "       [6.21],\n",
       "       [6.22],\n",
       "       [6.23],\n",
       "       [6.24],\n",
       "       [6.25],\n",
       "       [6.26],\n",
       "       [6.27],\n",
       "       [6.28],\n",
       "       [6.29],\n",
       "       [6.3 ],\n",
       "       [6.31],\n",
       "       [6.32],\n",
       "       [6.33],\n",
       "       [6.34],\n",
       "       [6.35],\n",
       "       [6.36],\n",
       "       [6.37],\n",
       "       [6.38],\n",
       "       [6.39],\n",
       "       [6.4 ],\n",
       "       [6.41],\n",
       "       [6.42],\n",
       "       [6.43],\n",
       "       [6.44],\n",
       "       [6.45],\n",
       "       [6.46],\n",
       "       [6.47],\n",
       "       [6.48],\n",
       "       [6.49],\n",
       "       [6.5 ],\n",
       "       [6.51],\n",
       "       [6.52],\n",
       "       [6.53],\n",
       "       [6.54],\n",
       "       [6.55],\n",
       "       [6.56],\n",
       "       [6.57],\n",
       "       [6.58],\n",
       "       [6.59],\n",
       "       [6.6 ],\n",
       "       [6.61],\n",
       "       [6.62],\n",
       "       [6.63],\n",
       "       [6.64],\n",
       "       [6.65],\n",
       "       [6.66],\n",
       "       [6.67],\n",
       "       [6.68],\n",
       "       [6.69],\n",
       "       [6.7 ],\n",
       "       [6.71],\n",
       "       [6.72],\n",
       "       [6.73],\n",
       "       [6.74],\n",
       "       [6.75],\n",
       "       [6.76],\n",
       "       [6.77],\n",
       "       [6.78],\n",
       "       [6.79],\n",
       "       [6.8 ],\n",
       "       [6.81],\n",
       "       [6.82],\n",
       "       [6.83],\n",
       "       [6.84],\n",
       "       [6.85],\n",
       "       [6.86],\n",
       "       [6.87],\n",
       "       [6.88],\n",
       "       [6.89],\n",
       "       [6.9 ],\n",
       "       [6.91],\n",
       "       [6.92],\n",
       "       [6.93],\n",
       "       [6.94],\n",
       "       [6.95],\n",
       "       [6.96],\n",
       "       [6.97],\n",
       "       [6.98],\n",
       "       [6.99],\n",
       "       [7.  ],\n",
       "       [7.01],\n",
       "       [7.02],\n",
       "       [7.03],\n",
       "       [7.04],\n",
       "       [7.05],\n",
       "       [7.06],\n",
       "       [7.07],\n",
       "       [7.08],\n",
       "       [7.09],\n",
       "       [7.1 ],\n",
       "       [7.11],\n",
       "       [7.12],\n",
       "       [7.13],\n",
       "       [7.14],\n",
       "       [7.15],\n",
       "       [7.16],\n",
       "       [7.17],\n",
       "       [7.18],\n",
       "       [7.19],\n",
       "       [7.2 ],\n",
       "       [7.21],\n",
       "       [7.22],\n",
       "       [7.23],\n",
       "       [7.24],\n",
       "       [7.25],\n",
       "       [7.26],\n",
       "       [7.27],\n",
       "       [7.28],\n",
       "       [7.29],\n",
       "       [7.3 ],\n",
       "       [7.31],\n",
       "       [7.32],\n",
       "       [7.33],\n",
       "       [7.34],\n",
       "       [7.35],\n",
       "       [7.36],\n",
       "       [7.37],\n",
       "       [7.38],\n",
       "       [7.39],\n",
       "       [7.4 ],\n",
       "       [7.41],\n",
       "       [7.42],\n",
       "       [7.43],\n",
       "       [7.44],\n",
       "       [7.45],\n",
       "       [7.46],\n",
       "       [7.47],\n",
       "       [7.48],\n",
       "       [7.49],\n",
       "       [7.5 ],\n",
       "       [7.51],\n",
       "       [7.52],\n",
       "       [7.53],\n",
       "       [7.54],\n",
       "       [7.55],\n",
       "       [7.56],\n",
       "       [7.57],\n",
       "       [7.58],\n",
       "       [7.59],\n",
       "       [7.6 ],\n",
       "       [7.61],\n",
       "       [7.62],\n",
       "       [7.63],\n",
       "       [7.64],\n",
       "       [7.65],\n",
       "       [7.66],\n",
       "       [7.67],\n",
       "       [7.68],\n",
       "       [7.69],\n",
       "       [7.7 ],\n",
       "       [7.71],\n",
       "       [7.72],\n",
       "       [7.73],\n",
       "       [7.74],\n",
       "       [7.75],\n",
       "       [7.76],\n",
       "       [7.77],\n",
       "       [7.78],\n",
       "       [7.79],\n",
       "       [7.8 ],\n",
       "       [7.81],\n",
       "       [7.82],\n",
       "       [7.83],\n",
       "       [7.84],\n",
       "       [7.85],\n",
       "       [7.86],\n",
       "       [7.87],\n",
       "       [7.88],\n",
       "       [7.89],\n",
       "       [7.9 ],\n",
       "       [7.91],\n",
       "       [7.92],\n",
       "       [7.93],\n",
       "       [7.94],\n",
       "       [7.95],\n",
       "       [7.96],\n",
       "       [7.97],\n",
       "       [7.98],\n",
       "       [7.99],\n",
       "       [8.  ],\n",
       "       [8.01],\n",
       "       [8.02],\n",
       "       [8.03],\n",
       "       [8.04],\n",
       "       [8.05],\n",
       "       [8.06],\n",
       "       [8.07],\n",
       "       [8.08],\n",
       "       [8.09],\n",
       "       [8.1 ],\n",
       "       [8.11],\n",
       "       [8.12],\n",
       "       [8.13],\n",
       "       [8.14],\n",
       "       [8.15],\n",
       "       [8.16],\n",
       "       [8.17],\n",
       "       [8.18],\n",
       "       [8.19],\n",
       "       [8.2 ],\n",
       "       [8.21],\n",
       "       [8.22],\n",
       "       [8.23],\n",
       "       [8.24],\n",
       "       [8.25],\n",
       "       [8.26],\n",
       "       [8.27],\n",
       "       [8.28],\n",
       "       [8.29],\n",
       "       [8.3 ],\n",
       "       [8.31],\n",
       "       [8.32],\n",
       "       [8.33],\n",
       "       [8.34],\n",
       "       [8.35],\n",
       "       [8.36],\n",
       "       [8.37],\n",
       "       [8.38],\n",
       "       [8.39],\n",
       "       [8.4 ],\n",
       "       [8.41],\n",
       "       [8.42],\n",
       "       [8.43],\n",
       "       [8.44],\n",
       "       [8.45],\n",
       "       [8.46],\n",
       "       [8.47],\n",
       "       [8.48],\n",
       "       [8.49],\n",
       "       [8.5 ],\n",
       "       [8.51],\n",
       "       [8.52],\n",
       "       [8.53],\n",
       "       [8.54],\n",
       "       [8.55],\n",
       "       [8.56],\n",
       "       [8.57],\n",
       "       [8.58],\n",
       "       [8.59],\n",
       "       [8.6 ],\n",
       "       [8.61],\n",
       "       [8.62],\n",
       "       [8.63],\n",
       "       [8.64],\n",
       "       [8.65],\n",
       "       [8.66],\n",
       "       [8.67],\n",
       "       [8.68],\n",
       "       [8.69],\n",
       "       [8.7 ],\n",
       "       [8.71],\n",
       "       [8.72],\n",
       "       [8.73],\n",
       "       [8.74],\n",
       "       [8.75],\n",
       "       [8.76],\n",
       "       [8.77],\n",
       "       [8.78],\n",
       "       [8.79],\n",
       "       [8.8 ],\n",
       "       [8.81],\n",
       "       [8.82],\n",
       "       [8.83],\n",
       "       [8.84],\n",
       "       [8.85],\n",
       "       [8.86],\n",
       "       [8.87],\n",
       "       [8.88],\n",
       "       [8.89],\n",
       "       [8.9 ],\n",
       "       [8.91],\n",
       "       [8.92],\n",
       "       [8.93],\n",
       "       [8.94],\n",
       "       [8.95],\n",
       "       [8.96],\n",
       "       [8.97],\n",
       "       [8.98],\n",
       "       [8.99],\n",
       "       [9.  ],\n",
       "       [9.01],\n",
       "       [9.02],\n",
       "       [9.03],\n",
       "       [9.04],\n",
       "       [9.05],\n",
       "       [9.06],\n",
       "       [9.07],\n",
       "       [9.08],\n",
       "       [9.09],\n",
       "       [9.1 ],\n",
       "       [9.11],\n",
       "       [9.12],\n",
       "       [9.13],\n",
       "       [9.14],\n",
       "       [9.15],\n",
       "       [9.16],\n",
       "       [9.17],\n",
       "       [9.18],\n",
       "       [9.19],\n",
       "       [9.2 ],\n",
       "       [9.21],\n",
       "       [9.22],\n",
       "       [9.23],\n",
       "       [9.24],\n",
       "       [9.25],\n",
       "       [9.26],\n",
       "       [9.27],\n",
       "       [9.28],\n",
       "       [9.29],\n",
       "       [9.3 ],\n",
       "       [9.31],\n",
       "       [9.32],\n",
       "       [9.33],\n",
       "       [9.34],\n",
       "       [9.35],\n",
       "       [9.36],\n",
       "       [9.37],\n",
       "       [9.38],\n",
       "       [9.39],\n",
       "       [9.4 ],\n",
       "       [9.41],\n",
       "       [9.42],\n",
       "       [9.43],\n",
       "       [9.44],\n",
       "       [9.45],\n",
       "       [9.46],\n",
       "       [9.47],\n",
       "       [9.48],\n",
       "       [9.49],\n",
       "       [9.5 ],\n",
       "       [9.51],\n",
       "       [9.52],\n",
       "       [9.53],\n",
       "       [9.54],\n",
       "       [9.55],\n",
       "       [9.56],\n",
       "       [9.57],\n",
       "       [9.58],\n",
       "       [9.59],\n",
       "       [9.6 ],\n",
       "       [9.61],\n",
       "       [9.62],\n",
       "       [9.63],\n",
       "       [9.64],\n",
       "       [9.65],\n",
       "       [9.66],\n",
       "       [9.67],\n",
       "       [9.68],\n",
       "       [9.69],\n",
       "       [9.7 ],\n",
       "       [9.71],\n",
       "       [9.72],\n",
       "       [9.73],\n",
       "       [9.74],\n",
       "       [9.75],\n",
       "       [9.76],\n",
       "       [9.77],\n",
       "       [9.78],\n",
       "       [9.79],\n",
       "       [9.8 ],\n",
       "       [9.81],\n",
       "       [9.82],\n",
       "       [9.83],\n",
       "       [9.84],\n",
       "       [9.85],\n",
       "       [9.86],\n",
       "       [9.87],\n",
       "       [9.88],\n",
       "       [9.89],\n",
       "       [9.9 ],\n",
       "       [9.91],\n",
       "       [9.92],\n",
       "       [9.93],\n",
       "       [9.94],\n",
       "       [9.95],\n",
       "       [9.96],\n",
       "       [9.97],\n",
       "       [9.98],\n",
       "       [9.99]])"
      ]
     },
     "execution_count": 48,
     "metadata": {},
     "output_type": "execute_result"
    }
   ],
   "source": [
    "X_grid"
   ]
  },
  {
   "cell_type": "code",
   "execution_count": 49,
   "id": "29c1c97d",
   "metadata": {},
   "outputs": [
    {
     "data": {
      "image/png": "[encoded data removed]",
      "text/plain": [
       "<Figure size 640x480 with 1 Axes>"
      ]
     },
     "metadata": {},
     "output_type": "display_data"
    }
   ],
   "source": [
    "plt.scatter(X,y)\n",
    "plt.plot(X_grid,model.predict(X_grid),color='red')\n",
    "plt.xlabel('Level')\n",
    "plt.ylabel('Salary')\n",
    "plt.show()"
   ]
  }
 ],
 "metadata": {
  "kernelspec": {
   "display_name": "Python 3 (ipykernel)",
   "language": "python",
   "name": "python3"
  },
  "language_info": {
   "codemirror_mode": {
    "name": "ipython",
    "version": 3
   },
   "file_extension": ".py",
   "mimetype": "text/x-python",
   "name": "python",
   "nbconvert_exporter": "python",
   "pygments_lexer": "ipython3",
   "version": "3.9.13"
  }
 },
 "nbformat": 4,
 "nbformat_minor": 5
}
